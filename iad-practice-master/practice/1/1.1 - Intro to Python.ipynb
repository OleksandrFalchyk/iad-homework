{
  "cells": [
    {
      "cell_type": "markdown",
      "metadata": {
        "id": "trVuZ4EvI7vX"
      },
      "source": [
        "## Basics of Python: Data Types\n",
        "Python is an interpreted high-level general-purpose programming language. Its design philosophy emphasizes code readability with its use of significant indentation. Python is dynamically-typed and garbage-collected. It supports multiple programming paradigms, including object-oriented and functional programming (https://en.wikipedia.org/wiki/Python).\n",
        "\n",
        "(this is not a overview of Python in general, this notebook is just about some elementary concepts)\n",
        "### Numbers"
      ]
    },
    {
      "cell_type": "code",
      "execution_count": 1,
      "metadata": {
        "colab": {
          "base_uri": "https://localhost:8080/"
        },
        "id": "AcKFjR5HI7vX",
        "outputId": "000e94bc-7300-403c-c059-85f2a66ea369"
      },
      "outputs": [
        {
          "output_type": "stream",
          "name": "stdout",
          "text": [
            "3\n",
            "2\n",
            "0.5\n"
          ]
        }
      ],
      "source": [
        "a = 1 # variables created when assigned\n",
        "b = 2\n",
        "print(a + b)\n",
        "print(a * b)\n",
        "print(a ** b - a / b)"
      ]
    },
    {
      "cell_type": "markdown",
      "metadata": {
        "id": "Upf6Y1zTI7vY"
      },
      "source": [
        "### Lists\n",
        "Lists are useed to store multiple items in a single variable."
      ]
    },
    {
      "cell_type": "code",
      "execution_count": 2,
      "metadata": {
        "colab": {
          "base_uri": "https://localhost:8080/"
        },
        "id": "7Qbz5XTRI7vY",
        "outputId": "5542fa27-09ad-4d03-aa80-4a337d7e6e27"
      },
      "outputs": [
        {
          "output_type": "execute_result",
          "data": {
            "text/plain": [
              "[1, 2, 3]"
            ]
          },
          "metadata": {},
          "execution_count": 2
        }
      ],
      "source": [
        "a = [1, 2, 3]\n",
        "a"
      ]
    },
    {
      "cell_type": "code",
      "execution_count": 3,
      "metadata": {
        "id": "4VMYesIGI7vY"
      },
      "outputs": [],
      "source": [
        "a.append('Hello!')"
      ]
    },
    {
      "cell_type": "code",
      "execution_count": 4,
      "metadata": {
        "colab": {
          "base_uri": "https://localhost:8080/"
        },
        "id": "g6oZJPRiI7vY",
        "outputId": "c4bb335c-480b-46ef-b885-c7fc7936f4c5"
      },
      "outputs": [
        {
          "output_type": "execute_result",
          "data": {
            "text/plain": [
              "[1, 2, 3, 'Hello!']"
            ]
          },
          "metadata": {},
          "execution_count": 4
        }
      ],
      "source": [
        "a"
      ]
    },
    {
      "cell_type": "code",
      "execution_count": 5,
      "metadata": {
        "colab": {
          "base_uri": "https://localhost:8080/"
        },
        "id": "-anIlfzcI7vY",
        "outputId": "8e89ce94-7c66-4e54-ed62-236700266535"
      },
      "outputs": [
        {
          "output_type": "stream",
          "name": "stdout",
          "text": [
            "0 1\n",
            "1 2\n",
            "2 3\n",
            "3 Hello!\n"
          ]
        }
      ],
      "source": [
        "for i in range(len(a)): # range(len(a)) creates a sequence of numbers from 0 to len(a)\n",
        "    print(i, a[i])"
      ]
    },
    {
      "cell_type": "code",
      "execution_count": 6,
      "metadata": {
        "colab": {
          "base_uri": "https://localhost:8080/"
        },
        "id": "mTaU3HNVI7vY",
        "outputId": "e8e644b3-f88d-4c5c-ec3e-e68940c94c80"
      },
      "outputs": [
        {
          "output_type": "stream",
          "name": "stdout",
          "text": [
            "<class 'int'>\n",
            "<class 'str'>\n"
          ]
        }
      ],
      "source": [
        "print(type(a[0]))\n",
        "print(type(a[-1])) # last element"
      ]
    },
    {
      "cell_type": "code",
      "execution_count": 7,
      "metadata": {
        "colab": {
          "base_uri": "https://localhost:8080/"
        },
        "id": "aT5-GXbKI7vY",
        "outputId": "2a91e436-ccf1-43ae-c6b0-af1e85306023"
      },
      "outputs": [
        {
          "output_type": "execute_result",
          "data": {
            "text/plain": [
              "[2, 3, 'Hello!']"
            ]
          },
          "metadata": {},
          "execution_count": 7
        }
      ],
      "source": [
        "a[1:]"
      ]
    },
    {
      "cell_type": "code",
      "execution_count": 8,
      "metadata": {
        "colab": {
          "base_uri": "https://localhost:8080/"
        },
        "id": "ZlxhOfqhI7vY",
        "outputId": "7b8942b3-4894-467c-f10f-f2039e66c346"
      },
      "outputs": [
        {
          "output_type": "execute_result",
          "data": {
            "text/plain": [
              "[1, 2]"
            ]
          },
          "metadata": {},
          "execution_count": 8
        }
      ],
      "source": [
        "a[:-2]"
      ]
    },
    {
      "cell_type": "code",
      "execution_count": 9,
      "metadata": {
        "colab": {
          "base_uri": "https://localhost:8080/"
        },
        "id": "bisjR5MeI7vZ",
        "outputId": "d6517db5-26c9-4322-ff80-ba2f07e3cc3a"
      },
      "outputs": [
        {
          "output_type": "stream",
          "name": "stdout",
          "text": [
            "[['u', 0, 3], 2, 3, 'Hello!']\n",
            "u\n"
          ]
        }
      ],
      "source": [
        "a[0] = ['u', 0, 3]\n",
        "print(a)\n",
        "print(a[0][0])"
      ]
    },
    {
      "cell_type": "code",
      "execution_count": 10,
      "metadata": {
        "id": "gcrquyIdI7vZ"
      },
      "outputs": [],
      "source": [
        "new_list = [i**2 for i in range(5)] # list comprehensions"
      ]
    },
    {
      "cell_type": "code",
      "execution_count": 11,
      "metadata": {
        "colab": {
          "base_uri": "https://localhost:8080/"
        },
        "id": "Lv4Qh25UI7vZ",
        "outputId": "2dafcc84-b6bb-4dc8-85f3-df69a74ae434"
      },
      "outputs": [
        {
          "output_type": "execute_result",
          "data": {
            "text/plain": [
              "[0, 1, 4, 9, 16]"
            ]
          },
          "metadata": {},
          "execution_count": 11
        }
      ],
      "source": [
        "new_list"
      ]
    },
    {
      "cell_type": "code",
      "execution_count": 12,
      "metadata": {
        "id": "dJOjyfldI7vZ"
      },
      "outputs": [],
      "source": [
        "a1 = [1, 2, 3]\n",
        "a2 = ['1', '2', '3']"
      ]
    },
    {
      "cell_type": "code",
      "execution_count": 13,
      "metadata": {
        "colab": {
          "base_uri": "https://localhost:8080/"
        },
        "id": "AbYMBhfRI7vZ",
        "outputId": "67de3a25-0067-471c-c619-f19497cfe9d5"
      },
      "outputs": [
        {
          "output_type": "execute_result",
          "data": {
            "text/plain": [
              "[1, 2, 3, '1', '2', '3']"
            ]
          },
          "metadata": {},
          "execution_count": 13
        }
      ],
      "source": [
        "a1 + a2 # concatenation"
      ]
    },
    {
      "cell_type": "code",
      "execution_count": 14,
      "metadata": {
        "id": "BIrz5KUWI7vZ"
      },
      "outputs": [],
      "source": [
        "matrix = [[1, 2, 3], [4, 5, 6]]"
      ]
    },
    {
      "cell_type": "code",
      "execution_count": 15,
      "metadata": {
        "colab": {
          "base_uri": "https://localhost:8080/"
        },
        "id": "56QlqDSuI7vZ",
        "outputId": "687acdbe-3b32-40bb-9def-47d0fce5f779"
      },
      "outputs": [
        {
          "output_type": "execute_result",
          "data": {
            "text/plain": [
              "[[1, 2, 3], [4, 5, 6]]"
            ]
          },
          "metadata": {},
          "execution_count": 15
        }
      ],
      "source": [
        "matrix"
      ]
    },
    {
      "cell_type": "code",
      "execution_count": 16,
      "metadata": {
        "colab": {
          "base_uri": "https://localhost:8080/"
        },
        "id": "ikEiH2ptI7vZ",
        "outputId": "34d26411-c0fa-4fe5-b642-89871dae31fc"
      },
      "outputs": [
        {
          "output_type": "execute_result",
          "data": {
            "text/plain": [
              "2"
            ]
          },
          "metadata": {},
          "execution_count": 16
        }
      ],
      "source": [
        "len(matrix)"
      ]
    },
    {
      "cell_type": "code",
      "execution_count": 17,
      "metadata": {
        "colab": {
          "base_uri": "https://localhost:8080/"
        },
        "id": "ldGxp4a0I7vZ",
        "outputId": "53ae795b-4434-4f2b-f4f4-469e44b190ee"
      },
      "outputs": [
        {
          "output_type": "execute_result",
          "data": {
            "text/plain": [
              "3"
            ]
          },
          "metadata": {},
          "execution_count": 17
        }
      ],
      "source": [
        "len(matrix[0])"
      ]
    },
    {
      "cell_type": "markdown",
      "metadata": {
        "id": "9v5S1m4_I7vZ"
      },
      "source": [
        "### Dictionaries\n",
        "Dictionary are used to store data values in key:value pairs."
      ]
    },
    {
      "cell_type": "code",
      "execution_count": 18,
      "metadata": {
        "colab": {
          "base_uri": "https://localhost:8080/"
        },
        "id": "iil2NQBeI7vZ",
        "outputId": "cb01a023-8963-4e36-9857-362063fbdde0"
      },
      "outputs": [
        {
          "output_type": "stream",
          "name": "stdout",
          "text": [
            "{'key_1': 'value_1', 'key_2': 'value_2'}\n"
          ]
        }
      ],
      "source": [
        "d = {'key_1': 'value_1', 'key_2': 'value_2'}\n",
        "print(d)"
      ]
    },
    {
      "cell_type": "code",
      "execution_count": 19,
      "metadata": {
        "colab": {
          "base_uri": "https://localhost:8080/",
          "height": 36
        },
        "id": "wXcvaHMwI7vZ",
        "outputId": "bb38b5f6-f67a-4edd-c056-b4da8433a159"
      },
      "outputs": [
        {
          "output_type": "execute_result",
          "data": {
            "text/plain": [
              "'value_1'"
            ],
            "application/vnd.google.colaboratory.intrinsic+json": {
              "type": "string"
            }
          },
          "metadata": {},
          "execution_count": 19
        }
      ],
      "source": [
        "d['key_1']"
      ]
    },
    {
      "cell_type": "code",
      "execution_count": 20,
      "metadata": {
        "colab": {
          "base_uri": "https://localhost:8080/"
        },
        "id": "fBGlmW9wI7vZ",
        "outputId": "99a57ad0-03c1-4b6a-d65e-8760ef9990fa"
      },
      "outputs": [
        {
          "output_type": "execute_result",
          "data": {
            "text/plain": [
              "dict_keys(['key_1', 'key_2'])"
            ]
          },
          "metadata": {},
          "execution_count": 20
        }
      ],
      "source": [
        "d.keys()"
      ]
    },
    {
      "cell_type": "markdown",
      "metadata": {
        "id": "i-cU1bUoI7vZ"
      },
      "source": [
        "## Basics of Python: Functions\n",
        "a function is defined using the def keyword."
      ]
    },
    {
      "cell_type": "code",
      "execution_count": 21,
      "metadata": {
        "id": "mdxfDTLmI7vZ"
      },
      "outputs": [],
      "source": [
        "def hello_function():\n",
        "    print(\"Hello!\")"
      ]
    },
    {
      "cell_type": "code",
      "execution_count": 22,
      "metadata": {
        "id": "IRCvA8QgI7vZ"
      },
      "outputs": [],
      "source": [
        "def my_function(x, y):\n",
        "    return x**3, x + y"
      ]
    },
    {
      "cell_type": "code",
      "execution_count": 23,
      "metadata": {
        "colab": {
          "base_uri": "https://localhost:8080/"
        },
        "id": "j9X8PFdFI7vZ",
        "outputId": "3a9d7bc8-1380-4815-8429-eb7abca839d7"
      },
      "outputs": [
        {
          "output_type": "stream",
          "name": "stdout",
          "text": [
            "Hello!\n"
          ]
        }
      ],
      "source": [
        "hello_function()"
      ]
    },
    {
      "cell_type": "code",
      "execution_count": 24,
      "metadata": {
        "colab": {
          "base_uri": "https://localhost:8080/"
        },
        "id": "aU6xyWKcI7vZ",
        "outputId": "0bf83dd9-9781-4a24-e1f0-773e420919f4"
      },
      "outputs": [
        {
          "output_type": "execute_result",
          "data": {
            "text/plain": [
              "(64, 5)"
            ]
          },
          "metadata": {},
          "execution_count": 24
        }
      ],
      "source": [
        "my_function(4, 1)"
      ]
    },
    {
      "cell_type": "code",
      "execution_count": 24,
      "metadata": {
        "id": "ImVOAXYEI7vZ"
      },
      "outputs": [],
      "source": []
    },
    {
      "cell_type": "code",
      "execution_count": 24,
      "metadata": {
        "id": "8AHlxtSgI7vZ"
      },
      "outputs": [],
      "source": []
    }
  ],
  "metadata": {
    "kernelspec": {
      "display_name": "Python 3 (ipykernel)",
      "language": "python",
      "name": "python3"
    },
    "language_info": {
      "codemirror_mode": {
        "name": "ipython",
        "version": 3
      },
      "file_extension": ".py",
      "mimetype": "text/x-python",
      "name": "python",
      "nbconvert_exporter": "python",
      "pygments_lexer": "ipython3",
      "version": "3.13.7"
    },
    "colab": {
      "provenance": []
    }
  },
  "nbformat": 4,
  "nbformat_minor": 0
}