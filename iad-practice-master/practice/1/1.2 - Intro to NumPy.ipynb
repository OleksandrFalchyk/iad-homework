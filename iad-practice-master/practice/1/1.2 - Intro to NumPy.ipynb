{
  "cells": [
    {
      "cell_type": "markdown",
      "metadata": {
        "id": "M3AojU7BNFol"
      },
      "source": [
        "## Intro to NumPy\n",
        "NumPy is a library for the Python programming language, adding support for large, multi-dimensional arrays and matrices, along with a large collection of high-level mathematical functions to operate on these arrays (https://en.wikipedia.org/wiki/NumPy).\n",
        "\n",
        "Numpy is incredibly fast, as it has bindings to C libraries."
      ]
    },
    {
      "cell_type": "code",
      "execution_count": 1,
      "metadata": {
        "id": "Br3DoP9DNFom"
      },
      "outputs": [],
      "source": [
        "import numpy as np"
      ]
    },
    {
      "cell_type": "markdown",
      "metadata": {
        "id": "b-rTPmRHNFon"
      },
      "source": [
        "## Creation of NumPy array\n",
        "### From a list"
      ]
    },
    {
      "cell_type": "code",
      "execution_count": 2,
      "metadata": {
        "id": "yhS4u_27NFon"
      },
      "outputs": [],
      "source": [
        "a_list = [1, 2, 3]\n",
        "a_array = np.array(a_list)"
      ]
    },
    {
      "cell_type": "code",
      "execution_count": 3,
      "metadata": {
        "id": "YrNlOtZXNFon",
        "outputId": "af0a78e2-9daf-436e-ad4b-f360d7c19774",
        "colab": {
          "base_uri": "https://localhost:8080/"
        }
      },
      "outputs": [
        {
          "output_type": "stream",
          "name": "stdout",
          "text": [
            "<class 'list'>\n",
            "<class 'numpy.ndarray'>\n"
          ]
        }
      ],
      "source": [
        "print(type(a_list))\n",
        "print(type(a_array))"
      ]
    },
    {
      "cell_type": "code",
      "execution_count": 4,
      "metadata": {
        "id": "vkCvszXkNFon"
      },
      "outputs": [],
      "source": [
        "matrix = [[1,2,3],[4,5,6],[7,8,9]]\n",
        "a_2D = np.array(matrix)"
      ]
    },
    {
      "cell_type": "markdown",
      "metadata": {
        "id": "8zOBn_tZNFon"
      },
      "source": [
        "### Using built-in methods"
      ]
    },
    {
      "cell_type": "code",
      "execution_count": 5,
      "metadata": {
        "id": "80ZE2VxqNFon",
        "outputId": "7cc64e11-115a-4a7c-ad1a-3750b5476d27",
        "colab": {
          "base_uri": "https://localhost:8080/"
        }
      },
      "outputs": [
        {
          "output_type": "execute_result",
          "data": {
            "text/plain": [
              "array([0, 1, 2, 3, 4, 5, 6, 7, 8, 9])"
            ]
          },
          "metadata": {},
          "execution_count": 5
        }
      ],
      "source": [
        "np.arange(0, 10)"
      ]
    },
    {
      "cell_type": "code",
      "execution_count": 6,
      "metadata": {
        "id": "4nGMjlPhNFon",
        "outputId": "beaab2b9-26e0-4956-9170-5282d5c876bf",
        "colab": {
          "base_uri": "https://localhost:8080/"
        }
      },
      "outputs": [
        {
          "output_type": "execute_result",
          "data": {
            "text/plain": [
              "array([0, 2, 4, 6, 8])"
            ]
          },
          "metadata": {},
          "execution_count": 6
        }
      ],
      "source": [
        "np.arange(0, 10, 2) # np.arange(start, stop, step)"
      ]
    },
    {
      "cell_type": "code",
      "execution_count": 7,
      "metadata": {
        "id": "N5bTYb2NNFon",
        "outputId": "1bfd50b0-3a11-4554-98c5-cc97c936ef2b",
        "colab": {
          "base_uri": "https://localhost:8080/"
        }
      },
      "outputs": [
        {
          "output_type": "execute_result",
          "data": {
            "text/plain": [
              "array([0., 0., 0.])"
            ]
          },
          "metadata": {},
          "execution_count": 7
        }
      ],
      "source": [
        "np.zeros(3)"
      ]
    },
    {
      "cell_type": "code",
      "execution_count": 8,
      "metadata": {
        "id": "l0b24iulNFon",
        "outputId": "0ce23bed-8a00-4f69-badd-8b20572f1669",
        "colab": {
          "base_uri": "https://localhost:8080/"
        }
      },
      "outputs": [
        {
          "output_type": "execute_result",
          "data": {
            "text/plain": [
              "array([[0., 0., 0.],\n",
              "       [0., 0., 0.],\n",
              "       [0., 0., 0.]])"
            ]
          },
          "metadata": {},
          "execution_count": 8
        }
      ],
      "source": [
        "np.zeros((3, 3))"
      ]
    },
    {
      "cell_type": "code",
      "execution_count": 9,
      "metadata": {
        "id": "rckCF6MiNFoo",
        "outputId": "25fbb6a4-becc-4cee-9f8d-a55920825d32",
        "colab": {
          "base_uri": "https://localhost:8080/"
        }
      },
      "outputs": [
        {
          "output_type": "execute_result",
          "data": {
            "text/plain": [
              "array([ 0.        ,  0.52631579,  1.05263158,  1.57894737,  2.10526316,\n",
              "        2.63157895,  3.15789474,  3.68421053,  4.21052632,  4.73684211,\n",
              "        5.26315789,  5.78947368,  6.31578947,  6.84210526,  7.36842105,\n",
              "        7.89473684,  8.42105263,  8.94736842,  9.47368421, 10.        ])"
            ]
          },
          "metadata": {},
          "execution_count": 9
        }
      ],
      "source": [
        "np.linspace(0, 10, 20) # np.linspace(start, stop, num=50)"
      ]
    },
    {
      "cell_type": "markdown",
      "metadata": {
        "id": "-aQ6jFYUNFoo"
      },
      "source": [
        "## Random\n",
        "\n",
        "### uniform\n",
        "Return an array of the given shape with random samples from a uniform distribution"
      ]
    },
    {
      "cell_type": "code",
      "execution_count": 10,
      "metadata": {
        "id": "txzeKvHQNFoo",
        "outputId": "d7dfa5e0-b4a4-4ac3-ac29-2fdd6261060c",
        "colab": {
          "base_uri": "https://localhost:8080/"
        }
      },
      "outputs": [
        {
          "output_type": "execute_result",
          "data": {
            "text/plain": [
              "array([0.95275322, 0.27444206, 0.91722153, 0.75928685, 0.78306518])"
            ]
          },
          "metadata": {},
          "execution_count": 10
        }
      ],
      "source": [
        "np.random.uniform(0, 1, 5) # (low, high, size)"
      ]
    },
    {
      "cell_type": "markdown",
      "metadata": {
        "id": "GK3oaEfvNFoo"
      },
      "source": [
        "### randn\n",
        "Return samples from the “standard normal” distribution."
      ]
    },
    {
      "cell_type": "code",
      "execution_count": 11,
      "metadata": {
        "id": "AsrathRXNFoo",
        "outputId": "1c28e6cc-37da-479e-ac4d-4760735f8157",
        "colab": {
          "base_uri": "https://localhost:8080/"
        }
      },
      "outputs": [
        {
          "output_type": "execute_result",
          "data": {
            "text/plain": [
              "array([[ 0.07107415,  0.47353766],\n",
              "       [-1.41213816, -1.05101867]])"
            ]
          },
          "metadata": {},
          "execution_count": 11
        }
      ],
      "source": [
        "np.random.randn(2,2) # standard normal (Gaussian) distribution of mean 0 and variance 1"
      ]
    },
    {
      "cell_type": "markdown",
      "metadata": {
        "id": "pXh3tEWHNFoo"
      },
      "source": [
        "### normal"
      ]
    },
    {
      "cell_type": "code",
      "execution_count": 12,
      "metadata": {
        "id": "xp3KpHJNNFoo",
        "outputId": "252539e1-af41-485e-e878-4c8d541526ef",
        "colab": {
          "base_uri": "https://localhost:8080/"
        }
      },
      "outputs": [
        {
          "output_type": "execute_result",
          "data": {
            "text/plain": [
              "array([[ 0.81105645, -0.16206829],\n",
              "       [ 0.6715285 ,  0.52521477],\n",
              "       [ 0.84558029,  0.74357301]])"
            ]
          },
          "metadata": {},
          "execution_count": 12
        }
      ],
      "source": [
        "mu, sigma = 1, 0.5 # mean and standard deviation\n",
        "np.random.normal(mu, sigma, size = (3, 2))"
      ]
    },
    {
      "cell_type": "markdown",
      "metadata": {
        "id": "kphvLtKXNFoo"
      },
      "source": [
        "### multivariate normal"
      ]
    },
    {
      "cell_type": "code",
      "execution_count": 13,
      "metadata": {
        "id": "JwgZS__KNFoo",
        "outputId": "63a62665-de07-4712-f70c-e4bea8f6f3aa",
        "colab": {
          "base_uri": "https://localhost:8080/"
        }
      },
      "outputs": [
        {
          "output_type": "execute_result",
          "data": {
            "text/plain": [
              "array([[[0.99111198, 4.17669541],\n",
              "        [1.83702169, 2.2921045 ]],\n",
              "\n",
              "       [[1.14687949, 0.77691825],\n",
              "        [0.96500911, 2.21566902]],\n",
              "\n",
              "       [[1.69038506, 1.78321623],\n",
              "        [0.54501073, 1.19595907]]])"
            ]
          },
          "metadata": {},
          "execution_count": 13
        }
      ],
      "source": [
        "mean = [1, 2]\n",
        "cov = [[1, 0], [0, 1]]\n",
        "np.random.multivariate_normal(mean, cov, size= (3, 2))"
      ]
    },
    {
      "cell_type": "markdown",
      "metadata": {
        "id": "6kcJfGwwNFoo"
      },
      "source": [
        "### randint\n",
        "Return random integers"
      ]
    },
    {
      "cell_type": "code",
      "execution_count": 14,
      "metadata": {
        "id": "LQatQ5hKNFoo",
        "outputId": "00a70060-4f06-44cb-aee4-d5a04b8c9229",
        "colab": {
          "base_uri": "https://localhost:8080/"
        }
      },
      "outputs": [
        {
          "output_type": "execute_result",
          "data": {
            "text/plain": [
              "array([63,  8, 89, 88, 78])"
            ]
          },
          "metadata": {},
          "execution_count": 14
        }
      ],
      "source": [
        "np.random.randint(1, 100, 5) # randint(low, high=None, size=None)"
      ]
    },
    {
      "cell_type": "markdown",
      "metadata": {
        "id": "NbXAZcH1NFoo"
      },
      "source": [
        "### seed()\n",
        "The seed() method is used to initialize the random number generator."
      ]
    },
    {
      "cell_type": "code",
      "execution_count": 15,
      "metadata": {
        "id": "pBRsi7X_NFoo"
      },
      "outputs": [],
      "source": [
        "np.random.seed(0)"
      ]
    },
    {
      "cell_type": "markdown",
      "metadata": {
        "id": "CeIxN4xSNFoo"
      },
      "source": [
        "### Operations"
      ]
    },
    {
      "cell_type": "code",
      "execution_count": 16,
      "metadata": {
        "id": "nGQc7t5DNFop",
        "outputId": "2c814da6-b592-4647-fed8-cfb1bc0dd878",
        "colab": {
          "base_uri": "https://localhost:8080/"
        }
      },
      "outputs": [
        {
          "output_type": "stream",
          "name": "stdout",
          "text": [
            "arr: \n",
            "[0 1 2 3 4 5 6 7 8 9]\n",
            "arr_r: \n",
            "[[0 1 2 3 4]\n",
            " [5 6 7 8 9]]\n"
          ]
        }
      ],
      "source": [
        "arr = np.arange(0, 10)\n",
        "arr_r = arr.reshape(2, 5)\n",
        "print('arr: ')\n",
        "print(arr)\n",
        "print('arr_r: ')\n",
        "print(arr_r)"
      ]
    },
    {
      "cell_type": "code",
      "execution_count": 17,
      "metadata": {
        "id": "XM9g1cinNFop",
        "outputId": "adca9f2a-00cd-42c2-95f9-4148ffae46fd",
        "colab": {
          "base_uri": "https://localhost:8080/"
        }
      },
      "outputs": [
        {
          "output_type": "stream",
          "name": "stdout",
          "text": [
            "[45 48 65 68 68 10 84 22 37 88]\n"
          ]
        }
      ],
      "source": [
        "my_arr = np.random.randint(1, 100, 10)\n",
        "print(my_arr)"
      ]
    },
    {
      "cell_type": "code",
      "execution_count": 18,
      "metadata": {
        "id": "lqioijgZNFop",
        "outputId": "f1e7e755-a000-4675-a2d8-f655029dc314",
        "colab": {
          "base_uri": "https://localhost:8080/"
        }
      },
      "outputs": [
        {
          "output_type": "execute_result",
          "data": {
            "text/plain": [
              "np.int64(88)"
            ]
          },
          "metadata": {},
          "execution_count": 18
        }
      ],
      "source": [
        "my_arr.max()"
      ]
    },
    {
      "cell_type": "code",
      "execution_count": 19,
      "metadata": {
        "id": "jN1cJKlbNFop",
        "outputId": "d5bc8c7b-6ee8-4816-9828-680f496c991c",
        "colab": {
          "base_uri": "https://localhost:8080/"
        }
      },
      "outputs": [
        {
          "output_type": "execute_result",
          "data": {
            "text/plain": [
              "np.int64(9)"
            ]
          },
          "metadata": {},
          "execution_count": 19
        }
      ],
      "source": [
        "my_arr.argmax()"
      ]
    },
    {
      "cell_type": "code",
      "execution_count": 20,
      "metadata": {
        "id": "dy2FlJXZNFop"
      },
      "outputs": [],
      "source": [
        "arr_1 = np.array([1, 2, 3])\n",
        "arr_2 = np.array([4, 5, 6])"
      ]
    },
    {
      "cell_type": "code",
      "execution_count": 21,
      "metadata": {
        "id": "GIF2bW1_NFop",
        "outputId": "4ea690c6-3b72-484d-9c47-08b108298e0b",
        "colab": {
          "base_uri": "https://localhost:8080/"
        }
      },
      "outputs": [
        {
          "output_type": "execute_result",
          "data": {
            "text/plain": [
              "array([5, 7, 9])"
            ]
          },
          "metadata": {},
          "execution_count": 21
        }
      ],
      "source": [
        "arr_1 + arr_2"
      ]
    },
    {
      "cell_type": "code",
      "execution_count": 22,
      "metadata": {
        "id": "8H0K57DTNFop",
        "outputId": "252c672f-1adc-448a-d3ce-239616627487",
        "colab": {
          "base_uri": "https://localhost:8080/"
        }
      },
      "outputs": [
        {
          "output_type": "execute_result",
          "data": {
            "text/plain": [
              "array([ 4, 10, 18])"
            ]
          },
          "metadata": {},
          "execution_count": 22
        }
      ],
      "source": [
        "arr_1 * arr_2"
      ]
    },
    {
      "cell_type": "code",
      "execution_count": 23,
      "metadata": {
        "id": "CrBp3zutNFop",
        "outputId": "e43cc61a-6460-4cf9-fe75-a3daaa5909a8",
        "colab": {
          "base_uri": "https://localhost:8080/"
        }
      },
      "outputs": [
        {
          "output_type": "execute_result",
          "data": {
            "text/plain": [
              "array([ 2.71828183,  7.3890561 , 20.08553692])"
            ]
          },
          "metadata": {},
          "execution_count": 23
        }
      ],
      "source": [
        "np.exp(arr_1)"
      ]
    },
    {
      "cell_type": "code",
      "execution_count": 24,
      "metadata": {
        "id": "mL3jVltZNFop",
        "outputId": "0e6c408d-27f2-4af5-827e-640d6626372d",
        "colab": {
          "base_uri": "https://localhost:8080/"
        }
      },
      "outputs": [
        {
          "output_type": "execute_result",
          "data": {
            "text/plain": [
              "array([0.        , 0.69314718, 1.09861229])"
            ]
          },
          "metadata": {},
          "execution_count": 24
        }
      ],
      "source": [
        "np.log(arr_1)"
      ]
    },
    {
      "cell_type": "code",
      "execution_count": 24,
      "metadata": {
        "id": "CH84qK6NNFop"
      },
      "outputs": [],
      "source": []
    }
  ],
  "metadata": {
    "kernelspec": {
      "display_name": "Python 3 (ipykernel)",
      "language": "python",
      "name": "python3"
    },
    "language_info": {
      "codemirror_mode": {
        "name": "ipython",
        "version": 3
      },
      "file_extension": ".py",
      "mimetype": "text/x-python",
      "name": "python",
      "nbconvert_exporter": "python",
      "pygments_lexer": "ipython3",
      "version": "3.13.7"
    },
    "colab": {
      "provenance": []
    }
  },
  "nbformat": 4,
  "nbformat_minor": 0
}